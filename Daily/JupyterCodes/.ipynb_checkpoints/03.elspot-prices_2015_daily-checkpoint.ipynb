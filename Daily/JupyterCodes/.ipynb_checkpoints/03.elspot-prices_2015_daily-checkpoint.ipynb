{
 "cells": [
  {
   "cell_type": "code",
   "execution_count": 1,
   "metadata": {},
   "outputs": [],
   "source": [
    "import pandas as pd\n",
    "import matplotlib.pyplot as plt\n",
    "%matplotlib inline\n",
    "\n",
    "import seaborn as sns\n",
    "# Use seaborn style defaults and set the default figure size\n",
    "sns.set(rc={'figure.figsize':(20, 10)})"
   ]
  },
  {
   "cell_type": "code",
   "execution_count": 8,
   "metadata": {},
   "outputs": [],
   "source": [
    "df= pd.read_csv('C:/Users/simhaj-local/Documents/GitHub/NordPool_Price/Daily/csvFiles/03.elspot-prices_2015_daily_sek.csv',encoding = 'unicode_escape', header=0)"
   ]
  },
  {
   "cell_type": "code",
   "execution_count": 9,
   "metadata": {},
   "outputs": [
    {
     "data": {
      "text/plain": [
       "(365, 18)"
      ]
     },
     "execution_count": 9,
     "metadata": {},
     "output_type": "execute_result"
    }
   ],
   "source": [
    "df.shape"
   ]
  },
  {
   "cell_type": "code",
   "execution_count": 10,
   "metadata": {},
   "outputs": [
    {
     "data": {
      "text/html": [
       "<div>\n",
       "<style scoped>\n",
       "    .dataframe tbody tr th:only-of-type {\n",
       "        vertical-align: middle;\n",
       "    }\n",
       "\n",
       "    .dataframe tbody tr th {\n",
       "        vertical-align: top;\n",
       "    }\n",
       "\n",
       "    .dataframe thead th {\n",
       "        text-align: right;\n",
       "    }\n",
       "</style>\n",
       "<table border=\"1\" class=\"dataframe\">\n",
       "  <thead>\n",
       "    <tr style=\"text-align: right;\">\n",
       "      <th></th>\n",
       "      <th>SYS</th>\n",
       "      <th>SE1</th>\n",
       "      <th>SE2</th>\n",
       "      <th>SE3</th>\n",
       "      <th>SE4</th>\n",
       "      <th>FI</th>\n",
       "      <th>DK1</th>\n",
       "      <th>DK2</th>\n",
       "      <th>Oslo</th>\n",
       "      <th>Kr.sand</th>\n",
       "      <th>Bergen</th>\n",
       "      <th>Molde</th>\n",
       "      <th>Tr.heim</th>\n",
       "      <th>Tromsø</th>\n",
       "      <th>EE</th>\n",
       "      <th>LV</th>\n",
       "      <th>LT</th>\n",
       "      <th>FRE</th>\n",
       "    </tr>\n",
       "  </thead>\n",
       "  <tbody>\n",
       "    <tr>\n",
       "      <th>0</th>\n",
       "      <td>254.48</td>\n",
       "      <td>234.89</td>\n",
       "      <td>234.89</td>\n",
       "      <td>234.89</td>\n",
       "      <td>234.89</td>\n",
       "      <td>234.89</td>\n",
       "      <td>153.81</td>\n",
       "      <td>171.64</td>\n",
       "      <td>256.82</td>\n",
       "      <td>256.82</td>\n",
       "      <td>256.82</td>\n",
       "      <td>268.07</td>\n",
       "      <td>268.07</td>\n",
       "      <td>268.07</td>\n",
       "      <td>234.89</td>\n",
       "      <td>312.14</td>\n",
       "      <td>312.14</td>\n",
       "      <td>NaN</td>\n",
       "    </tr>\n",
       "    <tr>\n",
       "      <th>1</th>\n",
       "      <td>249.31</td>\n",
       "      <td>235.50</td>\n",
       "      <td>235.50</td>\n",
       "      <td>235.50</td>\n",
       "      <td>235.50</td>\n",
       "      <td>237.22</td>\n",
       "      <td>46.85</td>\n",
       "      <td>109.49</td>\n",
       "      <td>259.64</td>\n",
       "      <td>259.64</td>\n",
       "      <td>259.64</td>\n",
       "      <td>271.40</td>\n",
       "      <td>271.40</td>\n",
       "      <td>271.40</td>\n",
       "      <td>237.22</td>\n",
       "      <td>247.50</td>\n",
       "      <td>247.50</td>\n",
       "      <td>NaN</td>\n",
       "    </tr>\n",
       "    <tr>\n",
       "      <th>2</th>\n",
       "      <td>253.50</td>\n",
       "      <td>227.53</td>\n",
       "      <td>227.53</td>\n",
       "      <td>227.53</td>\n",
       "      <td>227.53</td>\n",
       "      <td>229.95</td>\n",
       "      <td>144.61</td>\n",
       "      <td>146.59</td>\n",
       "      <td>257.12</td>\n",
       "      <td>257.08</td>\n",
       "      <td>257.12</td>\n",
       "      <td>268.71</td>\n",
       "      <td>268.71</td>\n",
       "      <td>268.71</td>\n",
       "      <td>229.95</td>\n",
       "      <td>267.69</td>\n",
       "      <td>267.69</td>\n",
       "      <td>NaN</td>\n",
       "    </tr>\n",
       "    <tr>\n",
       "      <th>3</th>\n",
       "      <td>267.22</td>\n",
       "      <td>268.45</td>\n",
       "      <td>268.45</td>\n",
       "      <td>268.45</td>\n",
       "      <td>268.45</td>\n",
       "      <td>271.60</td>\n",
       "      <td>200.15</td>\n",
       "      <td>204.74</td>\n",
       "      <td>267.00</td>\n",
       "      <td>266.79</td>\n",
       "      <td>267.00</td>\n",
       "      <td>271.45</td>\n",
       "      <td>271.45</td>\n",
       "      <td>271.45</td>\n",
       "      <td>278.77</td>\n",
       "      <td>278.77</td>\n",
       "      <td>278.77</td>\n",
       "      <td>NaN</td>\n",
       "    </tr>\n",
       "    <tr>\n",
       "      <th>4</th>\n",
       "      <td>347.33</td>\n",
       "      <td>314.05</td>\n",
       "      <td>314.05</td>\n",
       "      <td>365.36</td>\n",
       "      <td>365.36</td>\n",
       "      <td>391.93</td>\n",
       "      <td>361.05</td>\n",
       "      <td>365.00</td>\n",
       "      <td>331.95</td>\n",
       "      <td>331.95</td>\n",
       "      <td>295.91</td>\n",
       "      <td>314.05</td>\n",
       "      <td>314.05</td>\n",
       "      <td>314.05</td>\n",
       "      <td>391.93</td>\n",
       "      <td>398.67</td>\n",
       "      <td>398.67</td>\n",
       "      <td>NaN</td>\n",
       "    </tr>\n",
       "  </tbody>\n",
       "</table>\n",
       "</div>"
      ],
      "text/plain": [
       "      SYS     SE1     SE2     SE3     SE4      FI     DK1     DK2    Oslo  \\\n",
       "0  254.48  234.89  234.89  234.89  234.89  234.89  153.81  171.64  256.82   \n",
       "1  249.31  235.50  235.50  235.50  235.50  237.22   46.85  109.49  259.64   \n",
       "2  253.50  227.53  227.53  227.53  227.53  229.95  144.61  146.59  257.12   \n",
       "3  267.22  268.45  268.45  268.45  268.45  271.60  200.15  204.74  267.00   \n",
       "4  347.33  314.05  314.05  365.36  365.36  391.93  361.05  365.00  331.95   \n",
       "\n",
       "   Kr.sand  Bergen   Molde  Tr.heim  Tromsø      EE      LV      LT  FRE  \n",
       "0   256.82  256.82  268.07   268.07  268.07  234.89  312.14  312.14  NaN  \n",
       "1   259.64  259.64  271.40   271.40  271.40  237.22  247.50  247.50  NaN  \n",
       "2   257.08  257.12  268.71   268.71  268.71  229.95  267.69  267.69  NaN  \n",
       "3   266.79  267.00  271.45   271.45  271.45  278.77  278.77  278.77  NaN  \n",
       "4   331.95  295.91  314.05   314.05  314.05  391.93  398.67  398.67  NaN  "
      ]
     },
     "execution_count": 10,
     "metadata": {},
     "output_type": "execute_result"
    }
   ],
   "source": [
    "df.head()"
   ]
  },
  {
   "cell_type": "code",
   "execution_count": 11,
   "metadata": {},
   "outputs": [],
   "source": [
    "df['DateAndTime'] = pd.date_range('1/1/2015', periods=365, freq='D')"
   ]
  },
  {
   "cell_type": "code",
   "execution_count": 12,
   "metadata": {},
   "outputs": [
    {
     "data": {
      "text/plain": [
       "<matplotlib.legend.Legend at 0x25c694b8f60>"
      ]
     },
     "execution_count": 12,
     "metadata": {},
     "output_type": "execute_result"
    },
    {
     "data": {
      "image/png": "[encoded data removed]",
      "text/plain": [
       "<Figure size 432x288 with 1 Axes>"
      ]
     },
     "metadata": {
      "needs_background": "light"
     },
     "output_type": "display_data"
    }
   ],
   "source": [
    "df['SE1'].plot(linewidth=1.5, marker = '.', linestyle = '--')\n",
    "df['SE2'].plot(linewidth=1.5, marker='o', linestyle='-')\n",
    "df['SE3'].plot(linewidth=1.5, marker = 'v', linestyle='-')\n",
    "df['SE4'].plot(linewidth=1.5, marker = 'd')\n",
    "plt.title('2015 Daily Price Change')\n",
    "plt.xlabel('Date')\n",
    "plt.ylabel('Amount')\n",
    "plt.legend()"
   ]
  },
  {
   "cell_type": "code",
   "execution_count": null,
   "metadata": {},
   "outputs": [],
   "source": []
  }
 ],
 "metadata": {
  "kernelspec": {
   "display_name": "Python 3",
   "language": "python",
   "name": "python3"
  },
  "language_info": {
   "codemirror_mode": {
    "name": "ipython",
    "version": 3
   },
   "file_extension": ".py",
   "mimetype": "text/x-python",
   "name": "python",
   "nbconvert_exporter": "python",
   "pygments_lexer": "ipython3",
   "version": "3.7.0"
  }
 },
 "nbformat": 4,
 "nbformat_minor": 2
}
