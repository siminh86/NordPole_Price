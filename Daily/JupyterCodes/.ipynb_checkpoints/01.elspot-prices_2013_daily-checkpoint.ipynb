{
 "cells": [
  {
   "cell_type": "code",
   "execution_count": 1,
   "metadata": {},
   "outputs": [],
   "source": [
    "try: \n",
    "    import pandas as pd\n",
    "except:\n",
    "    !pip install pandas\n",
    "import matplotlib.pyplot as plt\n",
    "%matplotlib inline\n",
    "\n",
    "import seaborn as sns\n",
    "# Use seaborn style defaults and set the default figure size\n",
    "sns.set(rc={'figure.figsize':(20, 10)})"
   ]
  },
  {
   "cell_type": "code",
   "execution_count": 3,
   "metadata": {},
   "outputs": [],
   "source": [
    "df= pd.read_csv('C:/Users/simhaj-local/Documents/GitHub/NordPool_Price/Daily/csvFiles/01.elspot-prices_2013_daily_sek.csv', encoding = 'unicode_escape', header=0)"
   ]
  },
  {
   "cell_type": "code",
   "execution_count": 4,
   "metadata": {},
   "outputs": [
    {
     "data": {
      "text/plain": [
       "(365, 18)"
      ]
     },
     "execution_count": 4,
     "metadata": {},
     "output_type": "execute_result"
    }
   ],
   "source": [
    "df.shape"
   ]
  },
  {
   "cell_type": "code",
   "execution_count": 7,
   "metadata": {},
   "outputs": [],
   "source": [
    "df['DateAndTime'] = pd.date_range('1/1/2013', periods=365, freq='D')"
   ]
  },
  {
   "cell_type": "code",
   "execution_count": 8,
   "metadata": {},
   "outputs": [
    {
     "data": {
      "text/html": [
       "<div>\n",
       "<style scoped>\n",
       "    .dataframe tbody tr th:only-of-type {\n",
       "        vertical-align: middle;\n",
       "    }\n",
       "\n",
       "    .dataframe tbody tr th {\n",
       "        vertical-align: top;\n",
       "    }\n",
       "\n",
       "    .dataframe thead th {\n",
       "        text-align: right;\n",
       "    }\n",
       "</style>\n",
       "<table border=\"1\" class=\"dataframe\">\n",
       "  <thead>\n",
       "    <tr style=\"text-align: right;\">\n",
       "      <th></th>\n",
       "      <th>SYS</th>\n",
       "      <th>SE1</th>\n",
       "      <th>SE2</th>\n",
       "      <th>SE3</th>\n",
       "      <th>SE4</th>\n",
       "      <th>FI</th>\n",
       "      <th>DK1</th>\n",
       "      <th>DK2</th>\n",
       "      <th>Oslo</th>\n",
       "      <th>Kr.sand</th>\n",
       "      <th>Bergen</th>\n",
       "      <th>Molde</th>\n",
       "      <th>Tr.heim</th>\n",
       "      <th>Tromsø</th>\n",
       "      <th>EE</th>\n",
       "      <th>ELE</th>\n",
       "      <th>LV</th>\n",
       "      <th>LT</th>\n",
       "      <th>DateAndTime</th>\n",
       "    </tr>\n",
       "  </thead>\n",
       "  <tbody>\n",
       "    <tr>\n",
       "      <th>0</th>\n",
       "      <td>271.93</td>\n",
       "      <td>260.88</td>\n",
       "      <td>260.88</td>\n",
       "      <td>260.88</td>\n",
       "      <td>260.88</td>\n",
       "      <td>260.88</td>\n",
       "      <td>224.72</td>\n",
       "      <td>224.90</td>\n",
       "      <td>281.73</td>\n",
       "      <td>281.73</td>\n",
       "      <td>281.73</td>\n",
       "      <td>280.35</td>\n",
       "      <td>280.35</td>\n",
       "      <td>280.35</td>\n",
       "      <td>270.26</td>\n",
       "      <td>270.26</td>\n",
       "      <td>NaN</td>\n",
       "      <td>225.09</td>\n",
       "      <td>2013-01-01</td>\n",
       "    </tr>\n",
       "    <tr>\n",
       "      <th>1</th>\n",
       "      <td>314.27</td>\n",
       "      <td>315.80</td>\n",
       "      <td>315.80</td>\n",
       "      <td>315.80</td>\n",
       "      <td>315.80</td>\n",
       "      <td>317.81</td>\n",
       "      <td>284.19</td>\n",
       "      <td>284.19</td>\n",
       "      <td>316.97</td>\n",
       "      <td>311.43</td>\n",
       "      <td>316.97</td>\n",
       "      <td>315.80</td>\n",
       "      <td>315.80</td>\n",
       "      <td>315.80</td>\n",
       "      <td>342.75</td>\n",
       "      <td>342.75</td>\n",
       "      <td>NaN</td>\n",
       "      <td>292.43</td>\n",
       "      <td>2013-01-02</td>\n",
       "    </tr>\n",
       "    <tr>\n",
       "      <th>2</th>\n",
       "      <td>300.21</td>\n",
       "      <td>299.26</td>\n",
       "      <td>299.26</td>\n",
       "      <td>299.26</td>\n",
       "      <td>299.26</td>\n",
       "      <td>299.59</td>\n",
       "      <td>264.53</td>\n",
       "      <td>267.52</td>\n",
       "      <td>303.72</td>\n",
       "      <td>302.96</td>\n",
       "      <td>303.72</td>\n",
       "      <td>299.36</td>\n",
       "      <td>299.36</td>\n",
       "      <td>299.36</td>\n",
       "      <td>349.82</td>\n",
       "      <td>349.82</td>\n",
       "      <td>NaN</td>\n",
       "      <td>391.43</td>\n",
       "      <td>2013-01-03</td>\n",
       "    </tr>\n",
       "    <tr>\n",
       "      <th>3</th>\n",
       "      <td>297.26</td>\n",
       "      <td>292.93</td>\n",
       "      <td>292.93</td>\n",
       "      <td>292.93</td>\n",
       "      <td>292.93</td>\n",
       "      <td>294.92</td>\n",
       "      <td>257.90</td>\n",
       "      <td>257.90</td>\n",
       "      <td>302.30</td>\n",
       "      <td>302.18</td>\n",
       "      <td>302.30</td>\n",
       "      <td>294.34</td>\n",
       "      <td>294.34</td>\n",
       "      <td>294.34</td>\n",
       "      <td>350.82</td>\n",
       "      <td>350.82</td>\n",
       "      <td>NaN</td>\n",
       "      <td>349.30</td>\n",
       "      <td>2013-01-04</td>\n",
       "    </tr>\n",
       "    <tr>\n",
       "      <th>4</th>\n",
       "      <td>301.75</td>\n",
       "      <td>302.43</td>\n",
       "      <td>302.43</td>\n",
       "      <td>302.43</td>\n",
       "      <td>306.01</td>\n",
       "      <td>302.43</td>\n",
       "      <td>301.62</td>\n",
       "      <td>302.73</td>\n",
       "      <td>302.55</td>\n",
       "      <td>300.95</td>\n",
       "      <td>300.95</td>\n",
       "      <td>302.43</td>\n",
       "      <td>302.43</td>\n",
       "      <td>302.43</td>\n",
       "      <td>320.75</td>\n",
       "      <td>320.75</td>\n",
       "      <td>NaN</td>\n",
       "      <td>333.73</td>\n",
       "      <td>2013-01-05</td>\n",
       "    </tr>\n",
       "  </tbody>\n",
       "</table>\n",
       "</div>"
      ],
      "text/plain": [
       "      SYS     SE1     SE2     SE3     SE4      FI     DK1     DK2    Oslo  \\\n",
       "0  271.93  260.88  260.88  260.88  260.88  260.88  224.72  224.90  281.73   \n",
       "1  314.27  315.80  315.80  315.80  315.80  317.81  284.19  284.19  316.97   \n",
       "2  300.21  299.26  299.26  299.26  299.26  299.59  264.53  267.52  303.72   \n",
       "3  297.26  292.93  292.93  292.93  292.93  294.92  257.90  257.90  302.30   \n",
       "4  301.75  302.43  302.43  302.43  306.01  302.43  301.62  302.73  302.55   \n",
       "\n",
       "   Kr.sand  Bergen   Molde  Tr.heim  Tromsø      EE     ELE  LV      LT  \\\n",
       "0   281.73  281.73  280.35   280.35  280.35  270.26  270.26 NaN  225.09   \n",
       "1   311.43  316.97  315.80   315.80  315.80  342.75  342.75 NaN  292.43   \n",
       "2   302.96  303.72  299.36   299.36  299.36  349.82  349.82 NaN  391.43   \n",
       "3   302.18  302.30  294.34   294.34  294.34  350.82  350.82 NaN  349.30   \n",
       "4   300.95  300.95  302.43   302.43  302.43  320.75  320.75 NaN  333.73   \n",
       "\n",
       "  DateAndTime  \n",
       "0  2013-01-01  \n",
       "1  2013-01-02  \n",
       "2  2013-01-03  \n",
       "3  2013-01-04  \n",
       "4  2013-01-05  "
      ]
     },
     "execution_count": 8,
     "metadata": {},
     "output_type": "execute_result"
    }
   ],
   "source": [
    "df.head()"
   ]
  },
  {
   "cell_type": "code",
   "execution_count": 9,
   "metadata": {},
   "outputs": [
    {
     "data": {
      "text/plain": [
       "<matplotlib.legend.Legend at 0x19ff2f41d68>"
      ]
     },
     "execution_count": 9,
     "metadata": {},
     "output_type": "execute_result"
    },
    {
     "data": {
      "image/png": "[encoded data removed]",
      "text/plain": [
       "<Figure size 432x288 with 1 Axes>"
      ]
     },
     "metadata": {
      "needs_background": "light"
     },
     "output_type": "display_data"
    }
   ],
   "source": [
    "df['SE1'].plot(linewidth=1.5, marker = '.', linestyle = '--')\n",
    "df['SE2'].plot(linewidth=1.5, marker='o', linestyle='-')\n",
    "df['SE3'].plot(linewidth=1.5, marker = 'v', linestyle='-')\n",
    "df['SE4'].plot(linewidth=1.5, marker = 'd')\n",
    "plt.title('2013 Daily Price Change')\n",
    "plt.xlabel('Date')\n",
    "plt.ylabel('Amount')\n",
    "plt.legend()"
   ]
  },
  {
   "cell_type": "code",
   "execution_count": null,
   "metadata": {},
   "outputs": [],
   "source": []
  }
 ],
 "metadata": {
  "kernelspec": {
   "display_name": "Python 3",
   "language": "python",
   "name": "python3"
  },
  "language_info": {
   "codemirror_mode": {
    "name": "ipython",
    "version": 3
   },
   "file_extension": ".py",
   "mimetype": "text/x-python",
   "name": "python",
   "nbconvert_exporter": "python",
   "pygments_lexer": "ipython3",
   "version": "3.7.0"
  }
 },
 "nbformat": 4,
 "nbformat_minor": 2
}
