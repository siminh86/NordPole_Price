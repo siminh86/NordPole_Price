{
 "cells": [
  {
   "cell_type": "code",
   "execution_count": 1,
   "metadata": {},
   "outputs": [
    {
     "name": "stdout",
     "output_type": "stream",
     "text": [
      "Collecting earthpy\n",
      "  Using cached https://files.pythonhosted.org/packages/56/4a/81646f00a1378c1e4153b655d503843c9d225db2c9be7544d9ccbea4cc25/earthpy-0.7.4.tar.gz\n",
      "Collecting geopandas (from earthpy)\n",
      "  Downloading https://files.pythonhosted.org/packages/59/39/de0263d511d4fc35a640cf00d02e497eb60698315a22936bedbdd904d7f7/geopandas-0.6.1-py2.py3-none-any.whl (918kB)\n",
      "Requirement already satisfied: matplotlib>=2.0.0 in c:\\programdata\\anaconda3\\lib\\site-packages (from earthpy) (2.2.3)\n",
      "Requirement already satisfied: numpy>=1.14.0 in c:\\programdata\\anaconda3\\lib\\site-packages (from earthpy) (1.15.1)\n",
      "Collecting rasterio (from earthpy)\n",
      "  Using cached https://files.pythonhosted.org/packages/1a/6d/ee8b15e0d45dd7e9e7f2559e37f91915a19155cf8403948ff2082903ee30/rasterio-1.1.0.tar.gz\n",
      "  Installing build dependencies: started\n",
      "  Installing build dependencies: finished with status 'done'\n",
      "    Complete output from command python setup.py egg_info:\n",
      "    INFO:root:Building on Windows requires extra options to setup.py to locate needed GDAL files. More information is available in the README.\n",
      "    ERROR: A GDAL API version must be specified. Provide a path to gdal-config using a GDAL_CONFIG environment variable or use a GDAL_VERSION environment variable.\n",
      "    \n",
      "    ----------------------------------------\n"
     ]
    },
    {
     "name": "stderr",
     "output_type": "stream",
     "text": [
      "Command \"python setup.py egg_info\" failed with error code 1 in C:\\Users\\SIMHAJ~1\\AppData\\Local\\Temp\\pip-install-9nx6qnpu\\rasterio\\\n",
      "You are using pip version 10.0.1, however version 19.3 is available.\n",
      "You should consider upgrading via the 'python -m pip install --upgrade pip' command.\n"
     ]
    }
   ],
   "source": [
    "# Install a pip package in the current Jupyter kernel\n",
    "import sys\n",
    "!{sys.executable} -m pip install earthpy"
   ]
  },
  {
   "cell_type": "code",
   "execution_count": 2,
   "metadata": {},
   "outputs": [
    {
     "ename": "ModuleNotFoundError",
     "evalue": "No module named 'earthpy'",
     "output_type": "error",
     "traceback": [
      "\u001b[1;31m---------------------------------------------------------------------------\u001b[0m",
      "\u001b[1;31mModuleNotFoundError\u001b[0m                       Traceback (most recent call last)",
      "\u001b[1;32m<ipython-input-2-2103e495d64e>\u001b[0m in \u001b[0;36m<module>\u001b[1;34m()\u001b[0m\n\u001b[0;32m      6\u001b[0m \u001b[1;32mfrom\u001b[0m \u001b[0mmatplotlib\u001b[0m\u001b[1;33m.\u001b[0m\u001b[0mdates\u001b[0m \u001b[1;32mimport\u001b[0m \u001b[0mDateFormatter\u001b[0m\u001b[1;33m\u001b[0m\u001b[0m\n\u001b[0;32m      7\u001b[0m \u001b[1;32mimport\u001b[0m \u001b[0mseaborn\u001b[0m \u001b[1;32mas\u001b[0m \u001b[0msns\u001b[0m\u001b[1;33m\u001b[0m\u001b[0m\n\u001b[1;32m----> 8\u001b[1;33m \u001b[1;32mimport\u001b[0m \u001b[0mearthpy\u001b[0m \u001b[1;32mas\u001b[0m \u001b[0met\u001b[0m\u001b[1;33m\u001b[0m\u001b[0m\n\u001b[0m",
      "\u001b[1;31mModuleNotFoundError\u001b[0m: No module named 'earthpy'"
     ]
    }
   ],
   "source": [
    "import os\n",
    "import numpy as np\n",
    "import pandas as pd\n",
    "import matplotlib.pyplot as plt\n",
    "import matplotlib.dates as mdates\n",
    "from matplotlib.dates import DateFormatter\n",
    "import seaborn as sns\n",
    "import earthpy as et"
   ]
  },
  {
   "cell_type": "code",
   "execution_count": 3,
   "metadata": {},
   "outputs": [],
   "source": [
    "# Date time conversion registration\n",
    "from pandas.plotting import register_matplotlib_converters\n",
    "register_matplotlib_converters()"
   ]
  },
  {
   "cell_type": "code",
   "execution_count": null,
   "metadata": {},
   "outputs": [],
   "source": [
    "# Get the data\n",
    "data = et.data.get_data('C:/Users/simhaj-local/Documents/GitHub/NordPole_Price/Hourly/CSVFiles/06.elspot-prices_2018_hourly.csv')"
   ]
  },
  {
   "cell_type": "code",
   "execution_count": null,
   "metadata": {},
   "outputs": [],
   "source": [
    "# Set working dir and import earthpy\n",
    "os.chdir(os.path.join(et.io.HOME, 'earth-analytics'))"
   ]
  },
  {
   "cell_type": "code",
   "execution_count": null,
   "metadata": {},
   "outputs": [],
   "source": [
    "# Prettier plotting with seaborn\n",
    "sns.set(font_scale=1.5, style=\"whitegrid\")"
   ]
  },
  {
   "cell_type": "code",
   "execution_count": null,
   "metadata": {},
   "outputs": [],
   "source": [
    "# Open the data \n",
    "precip_file = \"C:/Users/simhaj-local/Documents/GitHub/NordPole_Price/Hourly/CSVFiles/06.elspot-prices_2018_hourly.csv\"\n",
    "precip_boulder = pd.read_csv(precip_file,\n",
    "                             na_values=[0],\n",
    "                             parse_dates=['Hours'], \n",
    "                             index_col = 'Hours')\n",
    "precip_boulder.head()"
   ]
  },
  {
   "cell_type": "code",
   "execution_count": null,
   "metadata": {},
   "outputs": [],
   "source": [
    "# Plot the data \n",
    "fig, ax = plt.subplots(figsize = (30,15))\n",
    "ax.scatter(precip_boulder.index, \n",
    "           precip_boulder[\"SE1\"], \n",
    "           color = 'purple')\n",
    "ax.set(xlabel='Hours', ylabel='Sweden',\n",
    "       title=\"Hourly price change 2018\")\n",
    "plt.show()"
   ]
  },
  {
   "cell_type": "code",
   "execution_count": null,
   "metadata": {},
   "outputs": [],
   "source": [
    "# hourly differences intraday\n",
    "def maxDiff(data):\n",
    "    vmin = data[0]\n",
    "    dmax = 0\n",
    "    for i in range(len(data)):\n",
    "        if (a[i] < vmin):\n",
    "            vmin = adata[i]\n",
    "        elif (adata[i] - vmin > dmax):\n",
    "            dmax = data[i] - vmin\n",
    "    return dmax"
   ]
  },
  {
   "cell_type": "code",
   "execution_count": null,
   "metadata": {},
   "outputs": [],
   "source": [
    "plot.dmax"
   ]
  },
  {
   "cell_type": "code",
   "execution_count": null,
   "metadata": {},
   "outputs": [],
   "source": [
    "# Plot the data \n",
    "fig, ax = plt.subplots(figsize = (30,15))\n",
    "ax.scatter(precip_boulder.index, \n",
    "           precip_boulder[\"Oslo\"], \n",
    "           color = 'green')\n",
    "ax.scatter(precip_boulder.index, \n",
    "           precip_boulder[\"Kr.sand\"], \n",
    "           color = 'red')\n",
    "ax.scatter(precip_boulder.index, \n",
    "           precip_boulder[\"Bergen\"], \n",
    "           color = 'purple')\n",
    "ax.scatter(precip_boulder.index, \n",
    "           precip_boulder[\"Molde\"], \n",
    "           color = 'yellow')\n",
    "ax.scatter(precip_boulder.index, \n",
    "           precip_boulder[\"Tr.heim\"], \n",
    "           color = 'black')\n",
    "ax.scatter(precip_boulder.index, \n",
    "           precip_boulder[\"Tromsø\"], \n",
    "           color = 'blue')\n",
    "ax.set(xlabel='Hours', ylabel='Norway',\n",
    "       title=\"Hourly price change 2018\")\n",
    "plt.show()"
   ]
  },
  {
   "cell_type": "code",
   "execution_count": null,
   "metadata": {},
   "outputs": [],
   "source": [
    "# Plot the data \n",
    "fig, ax = plt.subplots(figsize = (30,15))\n",
    "ax.scatter(precip_boulder.index, \n",
    "           precip_boulder[\"FI\"], \n",
    "           color = 'blue')\n",
    "ax.set(xlabel='Hours', ylabel='FI',\n",
    "       title=\"Hourly price change 2018\")\n",
    "plt.show()"
   ]
  },
  {
   "cell_type": "code",
   "execution_count": null,
   "metadata": {},
   "outputs": [],
   "source": [
    "# Plot the data \n",
    "fig, ax = plt.subplots(figsize = (30,15))\n",
    "ax.scatter(precip_boulder.index, \n",
    "           precip_boulder[\"DK1\"], \n",
    "           color = 'blue')\n",
    "ax.scatter(precip_boulder.index, \n",
    "           precip_boulder[\"DK2\"], \n",
    "           color = 'red')\n",
    "ax.set(xlabel='Hours', ylabel='Denmark',\n",
    "       title=\"Hourly price change 2018\")\n",
    "plt.show()"
   ]
  },
  {
   "cell_type": "code",
   "execution_count": null,
   "metadata": {},
   "outputs": [],
   "source": []
  }
 ],
 "metadata": {
  "kernelspec": {
   "display_name": "Python 3",
   "language": "python",
   "name": "python3"
  },
  "language_info": {
   "codemirror_mode": {
    "name": "ipython",
    "version": 3
   },
   "file_extension": ".py",
   "mimetype": "text/x-python",
   "name": "python",
   "nbconvert_exporter": "python",
   "pygments_lexer": "ipython3",
   "version": "3.7.0"
  }
 },
 "nbformat": 4,
 "nbformat_minor": 2
}
