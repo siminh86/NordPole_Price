{
 "cells": [
  {
   "cell_type": "code",
   "execution_count": null,
   "metadata": {},
   "outputs": [],
   "source": [
    "import pandas as pd\n",
    "import matplotlib.pyplot as plt\n",
    "%matplotlib inline\n",
    "\n",
    "import seaborn as sns\n",
    "# Use seaborn style defaults and set the default figure size\n",
    "sns.set(rc={'figure.figsize':(20, 10)})"
   ]
  },
  {
   "cell_type": "code",
   "execution_count": null,
   "metadata": {},
   "outputs": [],
   "source": [
    "df= pd.read_csv('C:/Users/simhaj-local/Documents/GitHub/NordPole_Price/Hourly/CSVFiles/01.elspot-prices_2013_hourly.csv', header=2)"
   ]
  },
  {
   "cell_type": "code",
   "execution_count": null,
   "metadata": {},
   "outputs": [],
   "source": [
    "df.shape"
   ]
  },
  {
   "cell_type": "code",
   "execution_count": null,
   "metadata": {},
   "outputs": [],
   "source": [
    "output = df.resample('W').agg({'Open': take_first, \n",
    "                               'High': 'max',\n",
    "                               'Low': 'min',\n",
    "                               'Close': take_last,\n",
    "                               'Volume': 'sum'}, \n",
    "                               loffset = pd.offsets.timedelta(days=-6))"
   ]
  },
  {
   "cell_type": "code",
   "execution_count": null,
   "metadata": {},
   "outputs": [],
   "source": [
    "df['SE1'].plot(linewidth=1.5, marker = '.', linestyle = '--')\n",
    "df['SE2'].plot(linewidth=1.5, marker='o', linestyle='-')\n",
    "df['SE3'].plot(linewidth=1.5, marker = 'v', linestyle='-')\n",
    "df['SE4'].plot(linewidth=1.5, marker = 'd')\n",
    "plt.title('2013 Hourly Price Change')\n",
    "plt.xlabel('Time')\n",
    "plt.ylabel('Amount')\n",
    "plt.legend()"
   ]
  },
  {
   "cell_type": "code",
   "execution_count": null,
   "metadata": {},
   "outputs": [],
   "source": []
  }
 ],
 "metadata": {
  "kernelspec": {
   "display_name": "Python 3",
   "language": "python",
   "name": "python3"
  },
  "language_info": {
   "codemirror_mode": {
    "name": "ipython",
    "version": 3
   },
   "file_extension": ".py",
   "mimetype": "text/x-python",
   "name": "python",
   "nbconvert_exporter": "python",
   "pygments_lexer": "ipython3",
   "version": "3.7.0"
  }
 },
 "nbformat": 4,
 "nbformat_minor": 2
}
